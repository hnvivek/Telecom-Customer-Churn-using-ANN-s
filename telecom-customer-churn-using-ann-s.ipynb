{
 "cells": [
  {
   "cell_type": "code",
   "execution_count": 1,
   "metadata": {
    "_cell_guid": "b1076dfc-b9ad-4769-8c92-a6c4dae69d19",
    "_kg_hide-input": true,
    "_kg_hide-output": true,
    "_uuid": "8f2839f25d086af736a60e9eeb907d3b93b6e0e5"
   },
   "outputs": [
    {
     "name": "stdout",
     "output_type": "stream",
     "text": [
      "/kaggle/input/telco-customer-churn/WA_Fn-UseC_-Telco-Customer-Churn.csv\n"
     ]
    }
   ],
   "source": [
    "# This Python 3 environment comes with many helpful analytics libraries installed\n",
    "# It is defined by the kaggle/python Docker image: https://github.com/kaggle/docker-python\n",
    "# For example, here's several helpful packages to load\n",
    "\n",
    "import numpy as np # linear algebra\n",
    "import pandas as pd # data processing, CSV file I/O (e.g. pd.read_csv)\n",
    "\n",
    "# Input data files are available in the read-only \"../input/\" directory\n",
    "# For example, running this (by clicking run or pressing Shift+Enter) will list all files under the input directory\n",
    "\n",
    "import os\n",
    "for dirname, _, filenames in os.walk('/kaggle/input'):\n",
    "    for filename in filenames:\n",
    "        print(os.path.join(dirname, filename))\n",
    "\n",
    "# You can write up to 5GB to the current directory (/kaggle/working/) that gets preserved as output when you create a version using \"Save & Run All\" \n",
    "# You can also write temporary files to /kaggle/temp/, but they won't be saved outside of the current session"
   ]
  },
  {
   "cell_type": "markdown",
   "execution_count": null,
   "metadata": {},
   "source": [
    "Every company wants to increase its revenue and profitability. To do that, while they acquire new customers, they also want to make sure that the existing ones stay with them for a long term. Also, its strategically important to know beforehand whether a set of customers are planning to stop using their services (especially recurring ones like internet, cable, phone etc.). To do that, every company or business creates and tracks customer metrics which are then used to predict their likelihood of churn.\n",
    "\n",
    "Customer Churn for a company occurs when a customer decides to stop using the services of that company. In this project, we will be using the customer data of a telecom sector company based in the US to predict the probability of churn for each of the customer. "
   ]
  },
  {
   "cell_type": "code",
   "execution_count": 2,
   "metadata": {
    "_cell_guid": "79c7e3d0-c299-4dcb-8224-4455121ee9b0",
    "_uuid": "d629ff2d2480ee46fbb7e2d37f6b5fab8052498a"
   },
   "outputs": [],
   "source": [
    "# Loading the dataset\n",
    "\n",
    "df = pd.read_csv(\"/kaggle/input/telco-customer-churn/WA_Fn-UseC_-Telco-Customer-Churn.csv\")\n"
   ]
  },
  {
   "cell_type": "code",
   "execution_count": 3,
   "metadata": {},
   "outputs": [
    {
     "data": {
      "text/html": [
       "<div>\n",
       "<style scoped>\n",
       "    .dataframe tbody tr th:only-of-type {\n",
       "        vertical-align: middle;\n",
       "    }\n",
       "\n",
       "    .dataframe tbody tr th {\n",
       "        vertical-align: top;\n",
       "    }\n",
       "\n",
       "    .dataframe thead th {\n",
       "        text-align: right;\n",
       "    }\n",
       "</style>\n",
       "<table border=\"1\" class=\"dataframe\">\n",
       "  <thead>\n",
       "    <tr style=\"text-align: right;\">\n",
       "      <th></th>\n",
       "      <th>customerID</th>\n",
       "      <th>gender</th>\n",
       "      <th>SeniorCitizen</th>\n",
       "      <th>Partner</th>\n",
       "      <th>Dependents</th>\n",
       "      <th>tenure</th>\n",
       "      <th>PhoneService</th>\n",
       "      <th>MultipleLines</th>\n",
       "      <th>InternetService</th>\n",
       "      <th>OnlineSecurity</th>\n",
       "      <th>...</th>\n",
       "      <th>DeviceProtection</th>\n",
       "      <th>TechSupport</th>\n",
       "      <th>StreamingTV</th>\n",
       "      <th>StreamingMovies</th>\n",
       "      <th>Contract</th>\n",
       "      <th>PaperlessBilling</th>\n",
       "      <th>PaymentMethod</th>\n",
       "      <th>MonthlyCharges</th>\n",
       "      <th>TotalCharges</th>\n",
       "      <th>Churn</th>\n",
       "    </tr>\n",
       "  </thead>\n",
       "  <tbody>\n",
       "    <tr>\n",
       "      <th>0</th>\n",
       "      <td>7590-VHVEG</td>\n",
       "      <td>Female</td>\n",
       "      <td>0</td>\n",
       "      <td>Yes</td>\n",
       "      <td>No</td>\n",
       "      <td>1</td>\n",
       "      <td>No</td>\n",
       "      <td>No phone service</td>\n",
       "      <td>DSL</td>\n",
       "      <td>No</td>\n",
       "      <td>...</td>\n",
       "      <td>No</td>\n",
       "      <td>No</td>\n",
       "      <td>No</td>\n",
       "      <td>No</td>\n",
       "      <td>Month-to-month</td>\n",
       "      <td>Yes</td>\n",
       "      <td>Electronic check</td>\n",
       "      <td>29.85</td>\n",
       "      <td>29.85</td>\n",
       "      <td>No</td>\n",
       "    </tr>\n",
       "    <tr>\n",
       "      <th>1</th>\n",
       "      <td>5575-GNVDE</td>\n",
       "      <td>Male</td>\n",
       "      <td>0</td>\n",
       "      <td>No</td>\n",
       "      <td>No</td>\n",
       "      <td>34</td>\n",
       "      <td>Yes</td>\n",
       "      <td>No</td>\n",
       "      <td>DSL</td>\n",
       "      <td>Yes</td>\n",
       "      <td>...</td>\n",
       "      <td>Yes</td>\n",
       "      <td>No</td>\n",
       "      <td>No</td>\n",
       "      <td>No</td>\n",
       "      <td>One year</td>\n",
       "      <td>No</td>\n",
       "      <td>Mailed check</td>\n",
       "      <td>56.95</td>\n",
       "      <td>1889.5</td>\n",
       "      <td>No</td>\n",
       "    </tr>\n",
       "    <tr>\n",
       "      <th>2</th>\n",
       "      <td>3668-QPYBK</td>\n",
       "      <td>Male</td>\n",
       "      <td>0</td>\n",
       "      <td>No</td>\n",
       "      <td>No</td>\n",
       "      <td>2</td>\n",
       "      <td>Yes</td>\n",
       "      <td>No</td>\n",
       "      <td>DSL</td>\n",
       "      <td>Yes</td>\n",
       "      <td>...</td>\n",
       "      <td>No</td>\n",
       "      <td>No</td>\n",
       "      <td>No</td>\n",
       "      <td>No</td>\n",
       "      <td>Month-to-month</td>\n",
       "      <td>Yes</td>\n",
       "      <td>Mailed check</td>\n",
       "      <td>53.85</td>\n",
       "      <td>108.15</td>\n",
       "      <td>Yes</td>\n",
       "    </tr>\n",
       "    <tr>\n",
       "      <th>3</th>\n",
       "      <td>7795-CFOCW</td>\n",
       "      <td>Male</td>\n",
       "      <td>0</td>\n",
       "      <td>No</td>\n",
       "      <td>No</td>\n",
       "      <td>45</td>\n",
       "      <td>No</td>\n",
       "      <td>No phone service</td>\n",
       "      <td>DSL</td>\n",
       "      <td>Yes</td>\n",
       "      <td>...</td>\n",
       "      <td>Yes</td>\n",
       "      <td>Yes</td>\n",
       "      <td>No</td>\n",
       "      <td>No</td>\n",
       "      <td>One year</td>\n",
       "      <td>No</td>\n",
       "      <td>Bank transfer (automatic)</td>\n",
       "      <td>42.30</td>\n",
       "      <td>1840.75</td>\n",
       "      <td>No</td>\n",
       "    </tr>\n",
       "    <tr>\n",
       "      <th>4</th>\n",
       "      <td>9237-HQITU</td>\n",
       "      <td>Female</td>\n",
       "      <td>0</td>\n",
       "      <td>No</td>\n",
       "      <td>No</td>\n",
       "      <td>2</td>\n",
       "      <td>Yes</td>\n",
       "      <td>No</td>\n",
       "      <td>Fiber optic</td>\n",
       "      <td>No</td>\n",
       "      <td>...</td>\n",
       "      <td>No</td>\n",
       "      <td>No</td>\n",
       "      <td>No</td>\n",
       "      <td>No</td>\n",
       "      <td>Month-to-month</td>\n",
       "      <td>Yes</td>\n",
       "      <td>Electronic check</td>\n",
       "      <td>70.70</td>\n",
       "      <td>151.65</td>\n",
       "      <td>Yes</td>\n",
       "    </tr>\n",
       "  </tbody>\n",
       "</table>\n",
       "<p>5 rows × 21 columns</p>\n",
       "</div>"
      ],
      "text/plain": [
       "   customerID  gender  SeniorCitizen Partner Dependents  tenure PhoneService  \\\n",
       "0  7590-VHVEG  Female              0     Yes         No       1           No   \n",
       "1  5575-GNVDE    Male              0      No         No      34          Yes   \n",
       "2  3668-QPYBK    Male              0      No         No       2          Yes   \n",
       "3  7795-CFOCW    Male              0      No         No      45           No   \n",
       "4  9237-HQITU  Female              0      No         No       2          Yes   \n",
       "\n",
       "      MultipleLines InternetService OnlineSecurity  ... DeviceProtection  \\\n",
       "0  No phone service             DSL             No  ...               No   \n",
       "1                No             DSL            Yes  ...              Yes   \n",
       "2                No             DSL            Yes  ...               No   \n",
       "3  No phone service             DSL            Yes  ...              Yes   \n",
       "4                No     Fiber optic             No  ...               No   \n",
       "\n",
       "  TechSupport StreamingTV StreamingMovies        Contract PaperlessBilling  \\\n",
       "0          No          No              No  Month-to-month              Yes   \n",
       "1          No          No              No        One year               No   \n",
       "2          No          No              No  Month-to-month              Yes   \n",
       "3         Yes          No              No        One year               No   \n",
       "4          No          No              No  Month-to-month              Yes   \n",
       "\n",
       "               PaymentMethod MonthlyCharges  TotalCharges Churn  \n",
       "0           Electronic check          29.85         29.85    No  \n",
       "1               Mailed check          56.95        1889.5    No  \n",
       "2               Mailed check          53.85        108.15   Yes  \n",
       "3  Bank transfer (automatic)          42.30       1840.75    No  \n",
       "4           Electronic check          70.70        151.65   Yes  \n",
       "\n",
       "[5 rows x 21 columns]"
      ]
     },
     "execution_count": 3,
     "metadata": {},
     "output_type": "execute_result"
    }
   ],
   "source": [
    "# Examining the data\n",
    "\n",
    "df.head()"
   ]
  },
  {
   "cell_type": "code",
   "execution_count": 4,
   "metadata": {},
   "outputs": [],
   "source": [
    "# Dropping customerID column\n",
    "\n",
    "df=df.drop([\"customerID\"],axis=1)"
   ]
  },
  {
   "cell_type": "code",
   "execution_count": 5,
   "metadata": {},
   "outputs": [
    {
     "data": {
      "text/plain": [
       "gender               object\n",
       "SeniorCitizen         int64\n",
       "Partner              object\n",
       "Dependents           object\n",
       "tenure                int64\n",
       "PhoneService         object\n",
       "MultipleLines        object\n",
       "InternetService      object\n",
       "OnlineSecurity       object\n",
       "OnlineBackup         object\n",
       "DeviceProtection     object\n",
       "TechSupport          object\n",
       "StreamingTV          object\n",
       "StreamingMovies      object\n",
       "Contract             object\n",
       "PaperlessBilling     object\n",
       "PaymentMethod        object\n",
       "MonthlyCharges      float64\n",
       "TotalCharges         object\n",
       "Churn                object\n",
       "dtype: object"
      ]
     },
     "execution_count": 5,
     "metadata": {},
     "output_type": "execute_result"
    }
   ],
   "source": [
    "# Examining the data types\n",
    "\n",
    "df.dtypes"
   ]
  },
  {
   "cell_type": "markdown",
   "execution_count": null,
   "metadata": {},
   "source": [
    "By verifying the data we can see that all are imported with coorect data types except the variable TotalCharges should be a float data type. "
   ]
  },
  {
   "cell_type": "code",
   "execution_count": 6,
   "metadata": {},
   "outputs": [],
   "source": [
    "# Casting TotalCharges to float\n",
    "\n",
    "df[\"TotalCharges\"]= pd.to_numeric(df[\"TotalCharges\"], errors=\"coerce\")"
   ]
  },
  {
   "cell_type": "code",
   "execution_count": 7,
   "metadata": {},
   "outputs": [
    {
     "data": {
      "text/plain": [
       "<matplotlib.axes._subplots.AxesSubplot at 0x7f14121b0a90>"
      ]
     },
     "execution_count": 7,
     "metadata": {},
     "output_type": "execute_result"
    },
    {
     "data": {
      "image/png": "[encoded data removed]",
      "text/plain": [
       "<Figure size 864x576 with 1 Axes>"
      ]
     },
     "metadata": {
      "needs_background": "light"
     },
     "output_type": "display_data"
    }
   ],
   "source": [
    "# checking the nulls\n",
    "\n",
    "df.isnull().sum().plot.bar(figsize=(12,8))"
   ]
  },
  {
   "cell_type": "markdown",
   "execution_count": null,
   "metadata": {},
   "source": [
    "Our dataset has null values for 11 records in Variable TotalCharges, so lets drop those 11 records"
   ]
  },
  {
   "cell_type": "code",
   "execution_count": 8,
   "metadata": {},
   "outputs": [
    {
     "data": {
      "text/plain": [
       "gender              0\n",
       "SeniorCitizen       0\n",
       "Partner             0\n",
       "Dependents          0\n",
       "tenure              0\n",
       "PhoneService        0\n",
       "MultipleLines       0\n",
       "InternetService     0\n",
       "OnlineSecurity      0\n",
       "OnlineBackup        0\n",
       "DeviceProtection    0\n",
       "TechSupport         0\n",
       "StreamingTV         0\n",
       "StreamingMovies     0\n",
       "Contract            0\n",
       "PaperlessBilling    0\n",
       "PaymentMethod       0\n",
       "MonthlyCharges      0\n",
       "TotalCharges        0\n",
       "Churn               0\n",
       "dtype: int64"
      ]
     },
     "execution_count": 8,
     "metadata": {},
     "output_type": "execute_result"
    }
   ],
   "source": [
    "# Drop Null values\n",
    "\n",
    "df=df.dropna()\n",
    "df.isnull().sum()"
   ]
  },
  {
   "cell_type": "code",
   "execution_count": 9,
   "metadata": {},
   "outputs": [],
   "source": [
    "# Label Encoding for gender and churn\n",
    "\n",
    "from sklearn.preprocessing import LabelEncoder\n",
    "le=LabelEncoder()\n",
    "df[\"gender\"]= le.fit_transform(df[\"gender\"])\n",
    "df[\"Churn\"]= le.fit_transform(df[\"Churn\"])"
   ]
  },
  {
   "cell_type": "markdown",
   "execution_count": null,
   "metadata": {},
   "source": [
    "Splitting the dataset into train and test"
   ]
  },
  {
   "cell_type": "code",
   "execution_count": 10,
   "metadata": {},
   "outputs": [],
   "source": [
    "# Defining the X and y\n",
    "\n",
    "X = df.loc[:,df.columns!=\"Churn\"]\n",
    "y = df[\"Churn\"]\n",
    "y=y.values.reshape(-1,1)"
   ]
  },
  {
   "cell_type": "code",
   "execution_count": 11,
   "metadata": {},
   "outputs": [],
   "source": [
    "# Splitting the training and testing data\n",
    "\n",
    "from sklearn.model_selection import train_test_split\n",
    "X_train,X_test,y_train,y_test = train_test_split(X,y,test_size=0.2,random_state=0)"
   ]
  },
  {
   "cell_type": "markdown",
   "execution_count": null,
   "metadata": {},
   "source": [
    "To encode all categorical variables at the same time, let's first make a list with their names:\n"
   ]
  },
  {
   "cell_type": "code",
   "execution_count": 12,
   "metadata": {},
   "outputs": [
    {
     "name": "stdout",
     "output_type": "stream",
     "text": [
      "['Partner', 'Dependents', 'PhoneService', 'MultipleLines', 'InternetService', 'OnlineSecurity', 'OnlineBackup', 'DeviceProtection', 'TechSupport', 'StreamingTV', 'StreamingMovies', 'Contract', 'PaperlessBilling', 'PaymentMethod']\n"
     ]
    }
   ],
   "source": [
    "# Filtering all Categorical variables\n",
    "\n",
    "vars_categorical = list(df.select_dtypes(['object']).columns)\n",
    "print(vars_categorical)"
   ]
  },
  {
   "cell_type": "markdown",
   "execution_count": null,
   "metadata": {},
   "source": [
    "Numerical Categories are easier for the machines to compute and train algorithms. So lets encode using One hot Encoder"
   ]
  },
  {
   "cell_type": "code",
   "execution_count": 13,
   "metadata": {},
   "outputs": [],
   "source": [
    "# One-Hot Encoding\n",
    "\n",
    "from sklearn.preprocessing import OneHotEncoder\n",
    "encoder = OneHotEncoder(categories='auto', drop='first', sparse=False) \n",
    "encoder.fit(X_train[vars_categorical])\n",
    "X_train_enc = encoder.transform(X_train[vars_categorical])\n",
    "X_test_enc = encoder.transform(X_test[vars_categorical]) \n"
   ]
  },
  {
   "cell_type": "code",
   "execution_count": 14,
   "metadata": {},
   "outputs": [
    {
     "data": {
      "text/plain": [
       "array([[1., 0., 1., ..., 0., 1., 0.],\n",
       "       [1., 1., 1., ..., 1., 0., 0.],\n",
       "       [1., 1., 1., ..., 0., 0., 1.],\n",
       "       ...,\n",
       "       [1., 1., 1., ..., 1., 0., 0.],\n",
       "       [1., 1., 1., ..., 1., 0., 0.],\n",
       "       [0., 0., 1., ..., 1., 0., 0.]])"
      ]
     },
     "execution_count": 14,
     "metadata": {},
     "output_type": "execute_result"
    }
   ],
   "source": [
    "# Verify the encoded output\n",
    "\n",
    "X_train_enc\n"
   ]
  },
  {
   "cell_type": "code",
   "execution_count": 15,
   "metadata": {},
   "outputs": [
    {
     "name": "stderr",
     "output_type": "stream",
     "text": [
      "Using TensorFlow backend.\n"
     ]
    }
   ],
   "source": [
    "# Loading the libraries\n",
    "\n",
    "import tensorflow.keras\n",
    "from keras.layers import Dense\n",
    "from keras.models import Sequential \n"
   ]
  },
  {
   "cell_type": "code",
   "execution_count": 16,
   "metadata": {},
   "outputs": [
    {
     "name": "stdout",
     "output_type": "stream",
     "text": [
      "Model: \"sequential_1\"\n",
      "_________________________________________________________________\n",
      "Layer (type)                 Output Shape              Param #   \n",
      "=================================================================\n",
      "dense_1 (Dense)              (None, 64)                1664      \n",
      "_________________________________________________________________\n",
      "dense_2 (Dense)              (None, 32)                2080      \n",
      "_________________________________________________________________\n",
      "dense_3 (Dense)              (None, 16)                528       \n",
      "_________________________________________________________________\n",
      "dense_4 (Dense)              (None, 8)                 136       \n",
      "_________________________________________________________________\n",
      "dense_5 (Dense)              (None, 1)                 9         \n",
      "=================================================================\n",
      "Total params: 4,417\n",
      "Trainable params: 4,417\n",
      "Non-trainable params: 0\n",
      "_________________________________________________________________\n"
     ]
    }
   ],
   "source": [
    "# Initiate the model\n",
    "\n",
    "model = Sequential()\n",
    "\n",
    "# adding input layers\n",
    "\n",
    "model.add(Dense(64, input_dim=25, activation=\"relu\"))\n",
    "model.add(Dense(32,activation=\"relu\"))\n",
    "model.add(Dense(16,activation=\"relu\"))\n",
    "model.add(Dense(8,activation=\"relu\"))\n",
    "model.add(Dense(1,activation=\"sigmoid\"))\n",
    "\n",
    "# printing the summary\n",
    "\n",
    "model.summary()"
   ]
  },
  {
   "cell_type": "code",
   "execution_count": 17,
   "metadata": {},
   "outputs": [],
   "source": [
    "# Compiling the model\n",
    "\n",
    "model.compile(optimizer=\"adam\",loss=\"binary_crossentropy\", metrics=['accuracy'])\n"
   ]
  },
  {
   "cell_type": "code",
   "execution_count": 18,
   "metadata": {},
   "outputs": [
    {
     "data": {
      "text/plain": [
       "(5625, 25)"
      ]
     },
     "execution_count": 18,
     "metadata": {},
     "output_type": "execute_result"
    }
   ],
   "source": [
    "X_train_enc.shape"
   ]
  },
  {
   "cell_type": "code",
   "execution_count": 19,
   "metadata": {},
   "outputs": [
    {
     "name": "stdout",
     "output_type": "stream",
     "text": [
      "Epoch 1/100\n",
      "5625/5625 [==============================] - 2s 333us/step - loss: 0.5249 - accuracy: 0.7442\n",
      "Epoch 2/100\n",
      "5625/5625 [==============================] - 1s 144us/step - loss: 0.4393 - accuracy: 0.7849\n",
      "Epoch 3/100\n",
      "5625/5625 [==============================] - 1s 142us/step - loss: 0.4351 - accuracy: 0.7858\n",
      "Epoch 4/100\n",
      "5625/5625 [==============================] - 1s 152us/step - loss: 0.4329 - accuracy: 0.7868\n",
      "Epoch 5/100\n",
      "5625/5625 [==============================] - 1s 162us/step - loss: 0.4308 - accuracy: 0.7890\n",
      "Epoch 6/100\n",
      "5625/5625 [==============================] - 1s 141us/step - loss: 0.4278 - accuracy: 0.7879\n",
      "Epoch 7/100\n",
      "5625/5625 [==============================] - 1s 138us/step - loss: 0.4280 - accuracy: 0.7872\n",
      "Epoch 8/100\n",
      "5625/5625 [==============================] - 1s 139us/step - loss: 0.4248 - accuracy: 0.7893\n",
      "Epoch 9/100\n",
      "5625/5625 [==============================] - 1s 142us/step - loss: 0.4227 - accuracy: 0.7895\n",
      "Epoch 10/100\n",
      "5625/5625 [==============================] - 1s 142us/step - loss: 0.4210 - accuracy: 0.7916\n",
      "Epoch 11/100\n",
      "5625/5625 [==============================] - 1s 140us/step - loss: 0.4192 - accuracy: 0.7941\n",
      "Epoch 12/100\n",
      "5625/5625 [==============================] - 1s 141us/step - loss: 0.4168 - accuracy: 0.7932\n",
      "Epoch 13/100\n",
      "5625/5625 [==============================] - 1s 146us/step - loss: 0.4165 - accuracy: 0.7909\n",
      "Epoch 14/100\n",
      "5625/5625 [==============================] - 1s 166us/step - loss: 0.4124 - accuracy: 0.7943\n",
      "Epoch 15/100\n",
      "5625/5625 [==============================] - 1s 146us/step - loss: 0.4105 - accuracy: 0.7973\n",
      "Epoch 16/100\n",
      "5625/5625 [==============================] - 1s 145us/step - loss: 0.4094 - accuracy: 0.7970\n",
      "Epoch 17/100\n",
      "5625/5625 [==============================] - 1s 141us/step - loss: 0.4078 - accuracy: 0.7996\n",
      "Epoch 18/100\n",
      "5625/5625 [==============================] - 1s 207us/step - loss: 0.4057 - accuracy: 0.7972\n",
      "Epoch 19/100\n",
      "5625/5625 [==============================] - 1s 143us/step - loss: 0.4027 - accuracy: 0.8048\n",
      "Epoch 20/100\n",
      "5625/5625 [==============================] - 1s 150us/step - loss: 0.4009 - accuracy: 0.8009\n",
      "Epoch 21/100\n",
      "5625/5625 [==============================] - 1s 137us/step - loss: 0.3973 - accuracy: 0.8052\n",
      "Epoch 22/100\n",
      "5625/5625 [==============================] - 1s 137us/step - loss: 0.3958 - accuracy: 0.8096\n",
      "Epoch 23/100\n",
      "5625/5625 [==============================] - 1s 140us/step - loss: 0.3958 - accuracy: 0.8087\n",
      "Epoch 24/100\n",
      "5625/5625 [==============================] - 1s 138us/step - loss: 0.3911 - accuracy: 0.8059\n",
      "Epoch 25/100\n",
      "5625/5625 [==============================] - 1s 141us/step - loss: 0.3891 - accuracy: 0.8084\n",
      "Epoch 26/100\n",
      "5625/5625 [==============================] - 1s 138us/step - loss: 0.3853 - accuracy: 0.8105\n",
      "Epoch 27/100\n",
      "5625/5625 [==============================] - 1s 141us/step - loss: 0.3837 - accuracy: 0.8108\n",
      "Epoch 28/100\n",
      "5625/5625 [==============================] - 1s 140us/step - loss: 0.3816 - accuracy: 0.8124\n",
      "Epoch 29/100\n",
      "5625/5625 [==============================] - 1s 141us/step - loss: 0.3797 - accuracy: 0.8149\n",
      "Epoch 30/100\n",
      "5625/5625 [==============================] - 1s 147us/step - loss: 0.3762 - accuracy: 0.8171\n",
      "Epoch 31/100\n",
      "5625/5625 [==============================] - 1s 180us/step - loss: 0.3741 - accuracy: 0.8148\n",
      "Epoch 32/100\n",
      "5625/5625 [==============================] - 1s 161us/step - loss: 0.3738 - accuracy: 0.8151\n",
      "Epoch 33/100\n",
      "5625/5625 [==============================] - 1s 141us/step - loss: 0.3705 - accuracy: 0.8142\n",
      "Epoch 34/100\n",
      "5625/5625 [==============================] - 1s 140us/step - loss: 0.3693 - accuracy: 0.8174\n",
      "Epoch 35/100\n",
      "5625/5625 [==============================] - 1s 136us/step - loss: 0.3656 - accuracy: 0.8194\n",
      "Epoch 36/100\n",
      "5625/5625 [==============================] - 1s 138us/step - loss: 0.3620 - accuracy: 0.8212\n",
      "Epoch 37/100\n",
      "5625/5625 [==============================] - 1s 141us/step - loss: 0.3625 - accuracy: 0.8217\n",
      "Epoch 38/100\n",
      "5625/5625 [==============================] - 1s 140us/step - loss: 0.3590 - accuracy: 0.8236\n",
      "Epoch 39/100\n",
      "5625/5625 [==============================] - 1s 139us/step - loss: 0.3580 - accuracy: 0.8249\n",
      "Epoch 40/100\n",
      "5625/5625 [==============================] - 1s 140us/step - loss: 0.3548 - accuracy: 0.8276\n",
      "Epoch 41/100\n",
      "5625/5625 [==============================] - 1s 137us/step - loss: 0.3533 - accuracy: 0.8265\n",
      "Epoch 42/100\n",
      "5625/5625 [==============================] - 1s 140us/step - loss: 0.3499 - accuracy: 0.8270\n",
      "Epoch 43/100\n",
      "5625/5625 [==============================] - 1s 139us/step - loss: 0.3502 - accuracy: 0.8267\n",
      "Epoch 44/100\n",
      "5625/5625 [==============================] - 1s 139us/step - loss: 0.3452 - accuracy: 0.8309\n",
      "Epoch 45/100\n",
      "5625/5625 [==============================] - 1s 172us/step - loss: 0.3431 - accuracy: 0.8325\n",
      "Epoch 46/100\n",
      "5625/5625 [==============================] - 1s 147us/step - loss: 0.3430 - accuracy: 0.8293\n",
      "Epoch 47/100\n",
      "5625/5625 [==============================] - 1s 191us/step - loss: 0.3389 - accuracy: 0.8327\n",
      "Epoch 48/100\n",
      "5625/5625 [==============================] - 1s 150us/step - loss: 0.3391 - accuracy: 0.8320\n",
      "Epoch 49/100\n",
      "5625/5625 [==============================] - 1s 150us/step - loss: 0.3366 - accuracy: 0.8373\n",
      "Epoch 50/100\n",
      "5625/5625 [==============================] - 1s 145us/step - loss: 0.3340 - accuracy: 0.8402\n",
      "Epoch 51/100\n",
      "5625/5625 [==============================] - 1s 143us/step - loss: 0.3312 - accuracy: 0.8400\n",
      "Epoch 52/100\n",
      "5625/5625 [==============================] - 1s 174us/step - loss: 0.3279 - accuracy: 0.8428\n",
      "Epoch 53/100\n",
      "5625/5625 [==============================] - 1s 148us/step - loss: 0.3295 - accuracy: 0.8375\n",
      "Epoch 54/100\n",
      "5625/5625 [==============================] - 1s 145us/step - loss: 0.3254 - accuracy: 0.8400\n",
      "Epoch 55/100\n",
      "5625/5625 [==============================] - 1s 146us/step - loss: 0.3231 - accuracy: 0.8452\n",
      "Epoch 56/100\n",
      "5625/5625 [==============================] - 1s 174us/step - loss: 0.3226 - accuracy: 0.8443\n",
      "Epoch 57/100\n",
      "5625/5625 [==============================] - 1s 160us/step - loss: 0.3188 - accuracy: 0.8444\n",
      "Epoch 58/100\n",
      "5625/5625 [==============================] - 1s 166us/step - loss: 0.3180 - accuracy: 0.8471\n",
      "Epoch 59/100\n",
      "5625/5625 [==============================] - 1s 145us/step - loss: 0.3216 - accuracy: 0.8393\n",
      "Epoch 60/100\n",
      "5625/5625 [==============================] - 1s 138us/step - loss: 0.3190 - accuracy: 0.8453\n",
      "Epoch 61/100\n",
      "5625/5625 [==============================] - 1s 137us/step - loss: 0.3119 - accuracy: 0.8480\n",
      "Epoch 62/100\n",
      "5625/5625 [==============================] - 1s 136us/step - loss: 0.3132 - accuracy: 0.8494\n",
      "Epoch 63/100\n",
      "5625/5625 [==============================] - 1s 140us/step - loss: 0.3105 - accuracy: 0.8544\n",
      "Epoch 64/100\n",
      "5625/5625 [==============================] - 1s 137us/step - loss: 0.3077 - accuracy: 0.8498\n",
      "Epoch 65/100\n",
      "5625/5625 [==============================] - 1s 138us/step - loss: 0.3077 - accuracy: 0.8519\n",
      "Epoch 66/100\n",
      "5625/5625 [==============================] - 1s 139us/step - loss: 0.3069 - accuracy: 0.8524\n",
      "Epoch 67/100\n",
      "5625/5625 [==============================] - 1s 142us/step - loss: 0.3085 - accuracy: 0.8500\n",
      "Epoch 68/100\n",
      "5625/5625 [==============================] - 1s 141us/step - loss: 0.3041 - accuracy: 0.8567\n",
      "Epoch 69/100\n",
      "5625/5625 [==============================] - 1s 138us/step - loss: 0.3028 - accuracy: 0.8533\n",
      "Epoch 70/100\n",
      "5625/5625 [==============================] - 1s 135us/step - loss: 0.3007 - accuracy: 0.8535\n",
      "Epoch 71/100\n",
      "5625/5625 [==============================] - 1s 162us/step - loss: 0.2964 - accuracy: 0.8574\n",
      "Epoch 72/100\n",
      "5625/5625 [==============================] - 1s 146us/step - loss: 0.3008 - accuracy: 0.8548\n",
      "Epoch 73/100\n",
      "5625/5625 [==============================] - 1s 138us/step - loss: 0.2976 - accuracy: 0.8551\n",
      "Epoch 74/100\n",
      "5625/5625 [==============================] - 1s 141us/step - loss: 0.2983 - accuracy: 0.8508\n",
      "Epoch 75/100\n",
      "5625/5625 [==============================] - 1s 136us/step - loss: 0.2961 - accuracy: 0.8581\n",
      "Epoch 76/100\n",
      "5625/5625 [==============================] - 1s 136us/step - loss: 0.2974 - accuracy: 0.8540\n",
      "Epoch 77/100\n",
      "5625/5625 [==============================] - 1s 137us/step - loss: 0.2928 - accuracy: 0.8585\n",
      "Epoch 78/100\n",
      "5625/5625 [==============================] - 1s 140us/step - loss: 0.2909 - accuracy: 0.8596\n",
      "Epoch 79/100\n",
      "5625/5625 [==============================] - 1s 138us/step - loss: 0.2935 - accuracy: 0.8585\n",
      "Epoch 80/100\n",
      "5625/5625 [==============================] - 1s 135us/step - loss: 0.2910 - accuracy: 0.8601\n",
      "Epoch 81/100\n",
      "5625/5625 [==============================] - 1s 136us/step - loss: 0.2898 - accuracy: 0.8592\n",
      "Epoch 82/100\n",
      "5625/5625 [==============================] - 1s 135us/step - loss: 0.2884 - accuracy: 0.8619\n",
      "Epoch 83/100\n",
      "5625/5625 [==============================] - 1s 136us/step - loss: 0.2888 - accuracy: 0.8592\n",
      "Epoch 84/100\n",
      "5625/5625 [==============================] - 1s 136us/step - loss: 0.2921 - accuracy: 0.8603\n",
      "Epoch 85/100\n",
      "5625/5625 [==============================] - 1s 170us/step - loss: 0.2842 - accuracy: 0.8631\n",
      "Epoch 86/100\n",
      "5625/5625 [==============================] - 1s 149us/step - loss: 0.2852 - accuracy: 0.8622\n",
      "Epoch 87/100\n",
      "5625/5625 [==============================] - 1s 159us/step - loss: 0.2866 - accuracy: 0.8619\n",
      "Epoch 88/100\n",
      "5625/5625 [==============================] - 1s 142us/step - loss: 0.2889 - accuracy: 0.8624\n",
      "Epoch 89/100\n",
      "5625/5625 [==============================] - 1s 138us/step - loss: 0.2865 - accuracy: 0.8601\n",
      "Epoch 90/100\n",
      "5625/5625 [==============================] - 1s 134us/step - loss: 0.2839 - accuracy: 0.8601\n",
      "Epoch 91/100\n",
      "5625/5625 [==============================] - 1s 140us/step - loss: 0.2823 - accuracy: 0.8658\n",
      "Epoch 92/100\n",
      "5625/5625 [==============================] - 1s 147us/step - loss: 0.2808 - accuracy: 0.8631\n",
      "Epoch 93/100\n",
      "5625/5625 [==============================] - 1s 143us/step - loss: 0.2809 - accuracy: 0.8644\n",
      "Epoch 94/100\n",
      "5625/5625 [==============================] - 1s 164us/step - loss: 0.2827 - accuracy: 0.8608\n",
      "Epoch 95/100\n",
      "5625/5625 [==============================] - 1s 147us/step - loss: 0.2830 - accuracy: 0.8617\n",
      "Epoch 96/100\n",
      "5625/5625 [==============================] - 1s 140us/step - loss: 0.2799 - accuracy: 0.8645\n",
      "Epoch 97/100\n",
      "5625/5625 [==============================] - 1s 136us/step - loss: 0.2777 - accuracy: 0.8658\n",
      "Epoch 98/100\n",
      "5625/5625 [==============================] - 1s 158us/step - loss: 0.2798 - accuracy: 0.8628\n",
      "Epoch 99/100\n",
      "5625/5625 [==============================] - 1s 158us/step - loss: 0.2807 - accuracy: 0.8663\n",
      "Epoch 100/100\n",
      "5625/5625 [==============================] - 1s 137us/step - loss: 0.2840 - accuracy: 0.8633\n"
     ]
    }
   ],
   "source": [
    "# Training the model\n",
    "\n",
    "epochs_hist= model.fit(X_train_enc,y_train,epochs=100,batch_size=25)"
   ]
  },
  {
   "cell_type": "code",
   "execution_count": 20,
   "metadata": {},
   "outputs": [
    {
     "data": {
      "text/plain": [
       "<matplotlib.legend.Legend at 0x7f13ac0e6510>"
      ]
     },
     "execution_count": 20,
     "metadata": {},
     "output_type": "execute_result"
    },
    {
     "data": {
      "image/png": "[encoded data removed]",
      "text/plain": [
       "<Figure size 432x288 with 1 Axes>"
      ]
     },
     "metadata": {
      "needs_background": "light"
     },
     "output_type": "display_data"
    }
   ],
   "source": [
    "# Plotting the accuracy\n",
    "\n",
    "import matplotlib.pyplot as plt\n",
    "plt.plot(epochs_hist.history[\"accuracy\"])\n",
    "plt.title('Model Accuracy plot')\n",
    "plt.ylabel('Accuracy')\n",
    "plt.xlabel('Epoch Number')\n",
    "plt.legend(['Training Accuracy'])"
   ]
  },
  {
   "cell_type": "code",
   "execution_count": 21,
   "metadata": {},
   "outputs": [],
   "source": [
    "# Predicting the test samples\n",
    "\n",
    "y_pred=model.predict(X_test_enc)"
   ]
  },
  {
   "cell_type": "code",
   "execution_count": 22,
   "metadata": {},
   "outputs": [],
   "source": [
    "# Converting y_pred to binary\n",
    "\n",
    "y_pred = (y_pred > 0.5)"
   ]
  },
  {
   "cell_type": "code",
   "execution_count": 23,
   "metadata": {},
   "outputs": [
    {
     "name": "stdout",
     "output_type": "stream",
     "text": [
      "[[860 191]\n",
      " [178 178]]\n"
     ]
    }
   ],
   "source": [
    "# Printing the confusion matrix\n",
    "\n",
    "from sklearn.metrics import confusion_matrix,accuracy_score\n",
    "cm=confusion_matrix(y_pred,y_test)\n",
    "print(cm)"
   ]
  },
  {
   "cell_type": "code",
   "execution_count": 24,
   "metadata": {},
   "outputs": [
    {
     "data": {
      "text/plain": [
       "0.7377398720682303"
      ]
     },
     "execution_count": 24,
     "metadata": {},
     "output_type": "execute_result"
    }
   ],
   "source": [
    "# Printing the accuracy\n",
    "\n",
    "accuracy_score(y_pred,y_test)"
   ]
  },
  {
   "cell_type": "code",
   "execution_count": null,
   "metadata": {},
   "outputs": [],
   "source": []
  }
 ],
 "metadata": {
  "kernelspec": {
   "display_name": "Python 3",
   "language": "python",
   "name": "python3"
  },
  "language_info": {
   "codemirror_mode": {
    "name": "ipython",
    "version": 3
   },
   "file_extension": ".py",
   "mimetype": "text/x-python",
   "name": "python",
   "nbconvert_exporter": "python",
   "pygments_lexer": "ipython3",
   "version": "3.7.6"
  }
 },
 "nbformat": 4,
 "nbformat_minor": 4
}
